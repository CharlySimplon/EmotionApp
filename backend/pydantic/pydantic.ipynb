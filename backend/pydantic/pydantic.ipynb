{
 "cells": [
  {
   "cell_type": "markdown",
   "metadata": {},
   "source": [
    "# PYDANTIC"
   ]
  },
  {
   "cell_type": "markdown",
   "metadata": {},
   "source": [
    "## Qu'est-ce que pydantic ? A quoi sert-il ?"
   ]
  },
  {
   "cell_type": "markdown",
   "metadata": {},
   "source": [
    "Pydantic est une bibliothèque qui utilise des annotations de type Python pour fournir des indications de type lors de l'exécution et pour fournir facilement des paramètres d'erreur lors de la validation des données.\n",
    "\n",
    "Cette bibliothèque est utile avec SQLAlchemy pour vérifier et valider les données.\n",
    "\n",
    "Cela nous évite de faire des fonctions pour vérifier que les variables soient du bon type et qu'il n'en manque pas."
   ]
  },
  {
   "cell_type": "markdown",
   "metadata": {},
   "source": [
    "## Comment l'installer ?"
   ]
  },
  {
   "cell_type": "markdown",
   "metadata": {},
   "source": [
    "Il suffit d'un : pip install pydantic"
   ]
  },
  {
   "cell_type": "markdown",
   "metadata": {},
   "source": [
    "## Comment l'utiliser ?"
   ]
  },
  {
   "cell_type": "markdown",
   "metadata": {},
   "source": [
    "Nous avons repris ici une partie du code utilisé pour créer un utilisateur à l'aide de pydantic"
   ]
  },
  {
   "cell_type": "markdown",
   "metadata": {},
   "source": []
  },
  {
   "cell_type": "markdown",
   "metadata": {},
   "source": []
  },
  {
   "cell_type": "markdown",
   "metadata": {},
   "source": [
    "Dans le fichier database.py :"
   ]
  },
  {
   "cell_type": "code",
   "execution_count": null,
   "metadata": {},
   "outputs": [],
   "source": [
    "from sqlalchemy import create_engine\n",
    "from sqlalchemy.ext.declarative import declarative_base\n",
    "from sqlalchemy.orm import sessionmaker\n",
    "\n",
    "SQLALCHEMY_DATABASE_URL = \"sqlite:///./sql.db\"\n",
    "\n",
    "engine = create_engine(SQLALCHEMY_DATABASE_URL)\n",
    "\n",
    "SessionLocal = sessionmaker(autocommit=False, autoflush=False, bind=engine)\n",
    "\n",
    "Base = declarative_base()"
   ]
  },
  {
   "cell_type": "markdown",
   "metadata": {},
   "source": [
    "Dans le fichier models.py :"
   ]
  },
  {
   "cell_type": "code",
   "execution_count": 1,
   "metadata": {},
   "outputs": [],
   "source": [
    "from sqlalchemy import Integer, ForeignKey, String, Column, Boolean\n",
    "from sqlalchemy.orm import relationship\n",
    "from .database import Base \n",
    "import datetime\n",
    "\n",
    "class User(Base):\n",
    "    __tablename__ = 'users'\n",
    "    id = Column(Integer, primary_key=True, index=True)\n",
    "    is_admin = Column(Boolean, default=False)\n",
    "    username = Column(String)\n",
    "    password = Column(String, default=\"1234\")\n",
    "\n",
    "    notes = relationship(\"Note\", back_populates=\"users\")\n",
    "\n",
    "class Note(Base):\n",
    "    __tablename__ = 'notes'\n",
    "    id = Column(Integer, primary_key=True, index=True)\n",
    "    user_id = Column(Integer, ForeignKey('users.id'))\n",
    "    date = Column(String, default=datetime.date.today().strftime(\"%d%m%Y\"))\n",
    "    note_content = Column(String(length=500))\n",
    "    note_sentiment = Column(String)\n",
    "\n",
    "    users = relationship(\"User\", back_populates=\"notes\")\n"
   ]
  },
  {
   "cell_type": "markdown",
   "metadata": {},
   "source": [
    "Dans le fichier schemas.py :"
   ]
  },
  {
   "cell_type": "code",
   "execution_count": null,
   "metadata": {},
   "outputs": [],
   "source": [
    "from typing import List, Optional\n",
    "from pydantic import BaseModel\n",
    "\n",
    "class NoteBase(BaseModel):\n",
    "    date : str\n",
    "    note_content: str\n",
    "    note_sentiment: str \n",
    "\n",
    "class NoteUpdate(NoteBase):\n",
    "    id : str\n",
    "    user_id : str\n",
    "    date: Optional[str] # Possibilité d'utiliser la fonctionnalité \"Optional\" \n",
    "\n",
    "class Note(NoteBase):\n",
    "    id: int\n",
    "    user_id: int\n",
    "\n",
    "    class Config:\n",
    "        orm_mode = True\n",
    "\n",
    "class UserBase(BaseModel):\n",
    "    username : str\n",
    "\n",
    "class UserCreate(UserBase):\n",
    "    is_admin : bool\n",
    "    password: str \n",
    "    \n",
    "# Quand on requête sur un user, on récupère ses attributs (Ici : id, is_admin et ses notes)\n",
    "class User(UserBase): \n",
    "    id: int\n",
    "    is_admin: bool\n",
    "    notes: List[Note] = [] # Permet de récupérer les notes d'un user lorsqu'on requête un user\n",
    "\n",
    "    class Config:\n",
    "        orm_mode = True \n",
    "    # Permet de récupérer une donnée, même si ce n'est pas un dict, mais un ORM \n",
    "    # => user['id'] ou user.id reverront ainsi la donnée"
   ]
  },
  {
   "cell_type": "markdown",
   "metadata": {},
   "source": [
    "Dans le fichier crud.py :"
   ]
  },
  {
   "cell_type": "code",
   "execution_count": null,
   "metadata": {},
   "outputs": [],
   "source": [
    "from sqlalchemy.orm import Session\n",
    "from . import models, schemas\n",
    "\n",
    "# On attend un user de la forme UserCreate\n",
    "def create_user(db: Session, user: schemas.UserCreate):\n",
    "    db_user = models.User(is_admin=user.is_admin, username=user.username, password=user.password)\n",
    "    db.add(db_user)\n",
    "    db.commit()\n",
    "    db.refresh(db_user)\n",
    "    return db_user"
   ]
  },
  {
   "cell_type": "markdown",
   "metadata": {},
   "source": [
    "Dans le fichier main.py :"
   ]
  },
  {
   "cell_type": "code",
   "execution_count": null,
   "metadata": {},
   "outputs": [],
   "source": [
    "from fastapi import Depends, FastAPI\n",
    "from sqlalchemy.orm import Session\n",
    "\n",
    "from sqldb import crud, models, schemas\n",
    "from sqldb.database import SessionLocal, engine\n",
    "\n",
    "models.Base.metadata.create_all(bind=engine)\n",
    "\n",
    "app = FastAPI()\n",
    "\n",
    "def get_db():\n",
    "    db = SessionLocal()\n",
    "    try:\n",
    "        yield db\n",
    "    finally:\n",
    "        db.close()\n",
    "\n",
    "# Route pour créer un utilisateur - On attend que les informations envoyées \n",
    "# correspondent aux informations attendues dans UserCreate\n",
    "@app.post(\"/users/\", response_model=schemas.User) \n",
    "def create_user(user: schemas.UserCreate, db: Session = Depends(get_db)): \n",
    "    return crud.create_user(db=db, user=user)"
   ]
  },
  {
   "cell_type": "markdown",
   "metadata": {},
   "source": [
    "## Ressources"
   ]
  },
  {
   "cell_type": "markdown",
   "metadata": {},
   "source": [
    "https://fastapi.tiangolo.com/tutorial/sql-databases/#create-the-pydantic-models"
   ]
  }
 ],
 "metadata": {
  "interpreter": {
   "hash": "b175033f4bbaf9f0fba1edfe1665e4ba0c526b66dcf284e028a4c2430fd27885"
  },
  "kernelspec": {
   "display_name": "Python 3.9.7 ('devia')",
   "language": "python",
   "name": "python3"
  },
  "language_info": {
   "codemirror_mode": {
    "name": "ipython",
    "version": 3
   },
   "file_extension": ".py",
   "mimetype": "text/x-python",
   "name": "python",
   "nbconvert_exporter": "python",
   "pygments_lexer": "ipython3",
   "version": "3.9.7"
  },
  "orig_nbformat": 4
 },
 "nbformat": 4,
 "nbformat_minor": 2
}
